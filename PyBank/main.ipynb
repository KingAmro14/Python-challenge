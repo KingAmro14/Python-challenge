{
 "cells": [
  {
   "cell_type": "code",
   "execution_count": 183,
   "id": "1a3d124b-bbc4-43f0-80d7-2beb3fd77d81",
   "metadata": {
    "tags": []
   },
   "outputs": [],
   "source": [
    "# Start off by importing the csv\n",
    "import csv"
   ]
  },
  {
   "cell_type": "code",
   "execution_count": 184,
   "id": "7b1f50ab-6680-4a6f-9365-6c072b4c1e39",
   "metadata": {
    "tags": []
   },
   "outputs": [],
   "source": [
    "from pathlib import Path"
   ]
  },
  {
   "cell_type": "code",
   "execution_count": 185,
   "id": "eb7db5e6-e646-4bef-979a-273bdc53497d",
   "metadata": {
    "tags": []
   },
   "outputs": [],
   "source": [
    "# Specifying the path to the CSV file\n",
    "filepath = Path(r\"C:\\Users\\GamerTech\\Desktop\\BootCamp\\Starter_Code\\Instructions\\PyBank\\Resources\\budget_data.csv\")"
   ]
  },
  {
   "cell_type": "code",
   "execution_count": 186,
   "id": "b0f9b586-19ac-4548-bd3d-3e7bc99a1150",
   "metadata": {
    "tags": []
   },
   "outputs": [
    {
     "name": "stdout",
     "output_type": "stream",
     "text": [
      "Date,Profit/Losses\n",
      "Jan-10,867884\n",
      "Feb-10,984655\n",
      "Mar-10,322013\n",
      "Apr-10,-69417\n",
      "May-10,310503\n",
      "Jun-10,522857\n",
      "Jul-10,1033096\n",
      "Aug-10,604885\n",
      "Sep-10,-216386\n",
      "Oct-10,477532\n",
      "Nov-10,893810\n",
      "Dec-10,-80353\n",
      "Jan-11,779806\n",
      "Feb-11,-335203\n",
      "Mar-11,697845\n",
      "Apr-11,793163\n",
      "May-11,485070\n",
      "Jun-11,584122\n",
      "Jul-11,62729\n",
      "Aug-11,668179\n",
      "Sep-11,899906\n",
      "Oct-11,834719\n",
      "Nov-11,132003\n",
      "Dec-11,309978\n",
      "Jan-12,-755566\n",
      "Feb-12,1170593\n",
      "Mar-12,252788\n",
      "Apr-12,1151518\n",
      "May-12,817256\n",
      "Jun-12,570757\n",
      "Jul-12,506702\n",
      "Aug-12,-1022534\n",
      "Sep-12,475062\n",
      "Oct-12,779976\n",
      "Nov-12,144175\n",
      "Dec-12,542494\n",
      "Jan-13,359333\n",
      "Feb-13,321469\n",
      "Mar-13,67780\n",
      "Apr-13,471435\n",
      "May-13,565603\n",
      "Jun-13,872480\n",
      "Jul-13,789480\n",
      "Aug-13,999942\n",
      "Sep-13,-1196225\n",
      "Oct-13,268997\n",
      "Nov-13,-687986\n",
      "Dec-13,1150461\n",
      "Jan-14,682458\n",
      "Feb-14,617856\n",
      "Mar-14,824098\n",
      "Apr-14,581943\n",
      "May-14,132864\n",
      "Jun-14,448062\n",
      "Jul-14,689161\n",
      "Aug-14,800701\n",
      "Sep-14,1166643\n",
      "Oct-14,947333\n",
      "Nov-14,578668\n",
      "Dec-14,988505\n",
      "Jan-15,1139715\n",
      "Feb-15,1029471\n",
      "Mar-15,687533\n",
      "Apr-15,-524626\n",
      "May-15,158620\n",
      "Jun-15,87795\n",
      "Jul-15,423389\n",
      "Aug-15,840723\n",
      "Sep-15,568529\n",
      "Oct-15,332067\n",
      "Nov-15,989499\n",
      "Dec-15,778237\n",
      "Jan-16,650000\n",
      "Feb-16,-1100387\n",
      "Mar-16,-174946\n",
      "Apr-16,757143\n",
      "May-16,445709\n",
      "Jun-16,712961\n",
      "Jul-16,-1163797\n",
      "Aug-16,569899\n",
      "Sep-16,768450\n",
      "Oct-16,102685\n",
      "Nov-16,795914\n",
      "Dec-16,60988\n",
      "Jan-17,138230\n",
      "Feb-17,671099\n",
      "\n"
     ]
    }
   ],
   "source": [
    "# to refrence the months and profits\n",
    "with open(filepath, 'r') as file:\n",
    "    text=file.read()\n",
    "    print(text)"
   ]
  },
  {
   "cell_type": "code",
   "execution_count": 187,
   "id": "1fa270ad-f11d-4524-9d42-4825676c085e",
   "metadata": {
    "tags": []
   },
   "outputs": [],
   "source": [
    "# Initializing variables\n",
    "total_months = 0\n",
    "total_amount = 0\n",
    "average_change = 0\n",
    "greatest_increase = {\"date\": \"\", \"amount\": float('-inf')}\n",
    "greatest_decrease = {\"date\": \"\", \"amount\": float('inf')}"
   ]
  },
  {
   "cell_type": "code",
   "execution_count": 188,
   "id": "3b61e5d7-1a8a-4190-8b47-f0f0cca76150",
   "metadata": {
    "tags": []
   },
   "outputs": [],
   "source": [
    "# Read CSV file\n",
    "with open(filepath, 'r') as csvfile:\n",
    "    csvreader = csv.reader(csvfile)\n",
    "    \n",
    "    next(csvreader)  # Skip header row\n",
    "    \n",
    "    for row in csvreader:\n",
    "        date = row[0]\n",
    "        profit_loss = int(row[1])\n",
    "        \n",
    "        # Calculate total months and total amount\n",
    "        total_months += 1\n",
    "        total_amount += profit_loss\n",
    "        \n",
    "        # Update greatest increase and decrease\n",
    "        if profit_loss > greatest_increase[\"amount\"]:\n",
    "            greatest_increase[\"date\"] = date\n",
    "            greatest_increase[\"amount\"] = profit_loss\n",
    "        \n",
    "        if profit_loss < greatest_decrease[\"amount\"]:\n",
    "            greatest_decrease[\"date\"] = date\n",
    "            greatest_decrease[\"amount\"] = profit_loss"
   ]
  },
  {
   "cell_type": "code",
   "execution_count": 189,
   "id": "abc69bbc-69d2-4247-bd71-7e522d4bae18",
   "metadata": {
    "tags": []
   },
   "outputs": [],
   "source": [
    "# Calculating average change\n",
    "average_change = total_amount / total_months"
   ]
  },
  {
   "cell_type": "code",
   "execution_count": 190,
   "id": "94084d29-4aed-4e36-85ee-b26e61b8f5de",
   "metadata": {
    "tags": []
   },
   "outputs": [
    {
     "name": "stdout",
     "output_type": "stream",
     "text": [
      "Financial Analysis\n",
      "\n",
      "--------------------------\n",
      "\n",
      "Total Months: 86\n",
      "\n",
      "Total: $38382578\n",
      "\n",
      "Average Change: $446309.05\n",
      "\n",
      "Greatest Increase in Profits: Feb-12 ($1170593)\n",
      "\n",
      "Greatest Decrease in Profits: Sep-13 ($-1196225)\n"
     ]
    }
   ],
   "source": [
    "# Printing analysis\n",
    "print(\"Financial Analysis\")\n",
    "print() # this adds space between lines\n",
    "print(\"--------------------------\")\n",
    "print()\n",
    "print(f\"Total Months: {total_months}\")\n",
    "print()\n",
    "print(f\"Total: ${total_amount}\")\n",
    "print()\n",
    "print(f\"Average Change: ${average_change:.2f}\")\n",
    "print()\n",
    "print(f\"Greatest Increase in Profits: {greatest_increase['date']} (${greatest_increase['amount']})\")\n",
    "print()\n",
    "print(f\"Greatest Decrease in Profits: {greatest_decrease['date']} (${greatest_decrease['amount']})\")"
   ]
  },
  {
   "cell_type": "code",
   "execution_count": null,
   "id": "2ad2fe23-1140-41b1-b9b2-c986f71763ab",
   "metadata": {},
   "outputs": [],
   "source": []
  }
 ],
 "metadata": {
  "kernelspec": {
   "display_name": "Python 3 (ipykernel)",
   "language": "python",
   "name": "python3"
  },
  "language_info": {
   "codemirror_mode": {
    "name": "ipython",
    "version": 3
   },
   "file_extension": ".py",
   "mimetype": "text/x-python",
   "name": "python",
   "nbconvert_exporter": "python",
   "pygments_lexer": "ipython3",
   "version": "3.11.4"
  }
 },
 "nbformat": 4,
 "nbformat_minor": 5
}
